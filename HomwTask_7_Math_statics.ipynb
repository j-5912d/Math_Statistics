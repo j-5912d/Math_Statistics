{
  "nbformat": 4,
  "nbformat_minor": 0,
  "metadata": {
    "colab": {
      "provenance": [],
      "authorship_tag": "ABX9TyPwD8M8rHJP0fyE9/3Zw1S3",
      "include_colab_link": true
    },
    "kernelspec": {
      "name": "python3",
      "display_name": "Python 3"
    },
    "language_info": {
      "name": "python"
    }
  },
  "cells": [
    {
      "cell_type": "markdown",
      "metadata": {
        "id": "view-in-github",
        "colab_type": "text"
      },
      "source": [
        "<a href=\"https://colab.research.google.com/github/j-5912d/Math_Statistics/blob/main/HomwTask_7_Math_statics.ipynb\" target=\"_parent\"><img src=\"https://colab.research.google.com/assets/colab-badge.svg\" alt=\"Open In Colab\"/></a>"
      ]
    },
    {
      "cell_type": "markdown",
      "source": [
        "# Задание 1"
      ],
      "metadata": {
        "id": "t0A-VfzRVVto"
      }
    },
    {
      "cell_type": "markdown",
      "source": [
        "1-4 задачи решать с помощью функций, 5ю вручную\n",
        "Выбрать тест и проверить, есть  ли различия между выборками:\n",
        "\n",
        "1 )  Даны две  независимые выборки. Не соблюдается условие нормальности\n",
        "x1  380,420, 290\n",
        "y1 140,360,200,900\n",
        "\n",
        "Сделайте вывод по результатам, полученным с помощью функции\n",
        "\n"
      ],
      "metadata": {
        "id": "_NsJYVk7Vc2Q"
      }
    },
    {
      "cell_type": "code",
      "source": [
        "import numpy as np\n",
        "import scipy.stats as stats\n",
        "import statistics\n",
        "import warnings\n"
      ],
      "metadata": {
        "id": "2Aax7LNbVcla"
      },
      "execution_count": 1,
      "outputs": []
    },
    {
      "cell_type": "code",
      "source": [
        "x1 = np.array([380, 420, 290])\n",
        "y1 = np.array([140, 360, 200, 900])"
      ],
      "metadata": {
        "id": "S66xEHuLZNSQ"
      },
      "execution_count": 2,
      "outputs": []
    },
    {
      "cell_type": "code",
      "source": [
        "stats.mannwhitneyu(x1, y1)"
      ],
      "metadata": {
        "colab": {
          "base_uri": "https://localhost:8080/"
        },
        "id": "DlVpWD_bbSTL",
        "outputId": "5cbb3ffd-10c2-48eb-bb7a-3956c77e76ae"
      },
      "execution_count": 3,
      "outputs": [
        {
          "output_type": "execute_result",
          "data": {
            "text/plain": [
              "MannwhitneyuResult(statistic=8.0, pvalue=0.6285714285714286)"
            ]
          },
          "metadata": {},
          "execution_count": 3
        }
      ]
    },
    {
      "cell_type": "markdown",
      "source": [
        "Сравнение 2-х групп, независимые выборки - Критерий Манна-Уитнии.\n",
        "\n",
        "Поскольку значение критерия pvalue = 0,63, если зарание установить значение a = 0,05 то поскольку значение pvalue Больше чем a - статичстических различий между выборок нет"
      ],
      "metadata": {
        "id": "MDtA55vldZbe"
      }
    },
    {
      "cell_type": "markdown",
      "source": [
        "# Задание 2"
      ],
      "metadata": {
        "id": "AxlKueMrVpzE"
      }
    },
    {
      "cell_type": "markdown",
      "source": [
        "2 ) Исследовалось влияние препарата на уровень давления пациентов. Сначала измерялось давление до приема препарата, потом через 10 минут и через 30 минут. Есть ли статистически значимые различия?\n",
        "\n",
        "1е измерение до приема препарата: 150, 160, 165, 145, 155\n",
        "2е измерение через 10 минут: 140, 155, 150,  130, 135\n",
        "3е измерение через 30 минут: 130, 130, 120, 130, 125\n",
        "\n"
      ],
      "metadata": {
        "id": "7NO9LwrEVtxQ"
      }
    },
    {
      "cell_type": "code",
      "execution_count": 4,
      "metadata": {
        "id": "BIeqofXfVP6x"
      },
      "outputs": [],
      "source": [
        "x2 = np.array([150, 160, 165, 145, 155])\n",
        "y2 = np.array([ 140, 155, 150, 130, 135 ])\n",
        "z2 = np.array([130, 130, 120, 130, 125])"
      ]
    },
    {
      "cell_type": "code",
      "source": [
        "stats.friedmanchisquare(x2, y2, z2)"
      ],
      "metadata": {
        "colab": {
          "base_uri": "https://localhost:8080/"
        },
        "id": "pq4RxRNkhLmX",
        "outputId": "79546d36-eb91-4f8b-bc7b-a520e694234c"
      },
      "execution_count": 5,
      "outputs": [
        {
          "output_type": "execute_result",
          "data": {
            "text/plain": [
              "FriedmanchisquareResult(statistic=9.578947368421062, pvalue=0.00831683351100441)"
            ]
          },
          "metadata": {},
          "execution_count": 5
        }
      ]
    },
    {
      "cell_type": "markdown",
      "source": [
        "Множественные сравнения - анализ повторных измерений - Критерий Фридмана\n",
        "\n",
        "Поскольку значение критерия pvalue = 0,0083, если зарание установить значение a = 0,05 то поскольку значение pvalue меньше чем a - статичстических различий есть, препарат влияет надавление пациентов"
      ],
      "metadata": {
        "id": "_wg8prVrl-a7"
      }
    },
    {
      "cell_type": "markdown",
      "source": [
        "# Задание 3"
      ],
      "metadata": {
        "id": "6dr7BQ61Vs9B"
      }
    },
    {
      "cell_type": "markdown",
      "source": [
        "3 ) Сравните 1 и 2 е измерения, предполагая, что 3го измерения через 30 минут не было.\n",
        "\n"
      ],
      "metadata": {
        "id": "IdyD12JdV01J"
      }
    },
    {
      "cell_type": "code",
      "source": [
        "stats.wilcoxon(x2, y2)"
      ],
      "metadata": {
        "colab": {
          "base_uri": "https://localhost:8080/"
        },
        "id": "D_pXKWMDo_KM",
        "outputId": "0e5a3c43-7bc5-4d6b-a60c-9169d8e5ad9d"
      },
      "execution_count": 7,
      "outputs": [
        {
          "output_type": "execute_result",
          "data": {
            "text/plain": [
              "WilcoxonResult(statistic=0.0, pvalue=0.0625)"
            ]
          },
          "metadata": {},
          "execution_count": 7
        }
      ]
    },
    {
      "cell_type": "markdown",
      "source": [
        "Сравнение 2-х групп, зависимые выборки - Критерий Уилкоксона\n",
        "\n",
        "Поскольку значение критерия pvalue = 0,0625, если зарание установить значение a = 0,05 то поскольку значение pvalue больше чем a - статичстических различий нет. Препарат не влияет на на давление пациентов"
      ],
      "metadata": {
        "id": "J-Mun30bo_eK"
      }
    },
    {
      "cell_type": "markdown",
      "source": [
        "# Задание 4"
      ],
      "metadata": {
        "id": "UIoOGnbNV3yb"
      }
    },
    {
      "cell_type": "markdown",
      "source": [
        "4) Даны 3 группы  учеников плавания.\n",
        "В 1 группе время на дистанцию 50 м составляют:\n",
        "56, 60, 62, 55, 71, 67, 59, 58, 64, 67\n",
        "\n",
        "Вторая группа : 57, 58, 69, 48, 72, 70, 68, 71, 50, 53\n",
        "Третья группа: 57, 67, 49, 48, 47, 55, 66, 51, 54\n"
      ],
      "metadata": {
        "id": "RxYnfZOMV754"
      }
    },
    {
      "cell_type": "code",
      "source": [
        "x4 = np.array([ 56, 60, 62, 55, 71, 67, 59, 58, 64, 67])\n",
        "y4 = np.array ([57, 58, 69, 48, 72, 70, 68, 71, 50, 53 ])\n",
        "z4 = np.array ([57, 67, 49, 48, 47, 55, 66, 51, 54])"
      ],
      "metadata": {
        "id": "r4Mhr9T6p10e"
      },
      "execution_count": 8,
      "outputs": []
    },
    {
      "cell_type": "code",
      "source": [
        "stats.kruskal(x4, y4, z4)"
      ],
      "metadata": {
        "colab": {
          "base_uri": "https://localhost:8080/"
        },
        "id": "fO7HMgPprnjL",
        "outputId": "663b143c-d3e9-414c-89c2-2413786efe56"
      },
      "execution_count": 9,
      "outputs": [
        {
          "output_type": "execute_result",
          "data": {
            "text/plain": [
              "KruskalResult(statistic=5.465564058257224, pvalue=0.0650380998590494)"
            ]
          },
          "metadata": {},
          "execution_count": 9
        }
      ]
    },
    {
      "cell_type": "markdown",
      "source": [
        "Множественные сравнения - анализ независимых выборок - Критерий Крускала-Уоллиса\n",
        "\n",
        "Поскольку значение критерия pvalue = 0,065 если зарание установить значение a = 0,05 то поскольку значение pvalue больше чем a - статичстических различий нет между 3 группами учеников"
      ],
      "metadata": {
        "id": "zsXvbr2Xp2SA"
      }
    },
    {
      "cell_type": "markdown",
      "source": [
        "# Задание 5"
      ],
      "metadata": {
        "id": "18OqMeZGV-PJ"
      }
    },
    {
      "cell_type": "markdown",
      "source": [
        "\n",
        "5) Заявляется, что партия изготавливается со средним арифметическим 2,5 см. Проверить данную гипотезу, если известно, что размеры изделий подчинены нормальному закону распределения. Объем выборки 10, уровень статистической значимости 5%\n",
        "\n",
        "2.51, 2.35, 2.74, 2.56, 2.40, 2.36, 2.65, 2.7, 2.67, 2.34"
      ],
      "metadata": {
        "id": "7zxGnbFdWBDb"
      }
    },
    {
      "cell_type": "code",
      "source": [
        "a = 0.05\n",
        "M = 2.5\n",
        "ar = [2.51, 2.35, 2.74, 2.56, 2.40, 2.36, 2.65, 2.7, 2.67, 2.34]\n",
        "x5 = np.array(ar)\n",
        "mean = np.mean(x5)\n",
        "mean"
      ],
      "metadata": {
        "colab": {
          "base_uri": "https://localhost:8080/"
        },
        "id": "Qewju_z6r_eN",
        "outputId": "ee63dade-a732-4ae8-aa31-e48449338c1c"
      },
      "execution_count": 13,
      "outputs": [
        {
          "output_type": "execute_result",
          "data": {
            "text/plain": [
              "2.5279999999999996"
            ]
          },
          "metadata": {},
          "execution_count": 13
        }
      ]
    },
    {
      "cell_type": "code",
      "source": [
        "n = len(ar)\n",
        "n"
      ],
      "metadata": {
        "colab": {
          "base_uri": "https://localhost:8080/"
        },
        "id": "mpkeInDIymGE",
        "outputId": "e6a09804-6f44-4252-9335-290227e61937"
      },
      "execution_count": 14,
      "outputs": [
        {
          "output_type": "execute_result",
          "data": {
            "text/plain": [
              "10"
            ]
          },
          "metadata": {},
          "execution_count": 14
        }
      ]
    },
    {
      "cell_type": "code",
      "source": [
        "sigma = np.std(x5, ddof = 1)\n",
        "sigma"
      ],
      "metadata": {
        "colab": {
          "base_uri": "https://localhost:8080/"
        },
        "id": "lFo7mws0ymCi",
        "outputId": "2816119c-3944-4ddc-b231-f491363de035"
      },
      "execution_count": 15,
      "outputs": [
        {
          "output_type": "execute_result",
          "data": {
            "text/plain": [
              "0.1572542173961923"
            ]
          },
          "metadata": {},
          "execution_count": 15
        }
      ]
    },
    {
      "cell_type": "code",
      "source": [
        "sigma = np.sqrt(np.var(x5, ddof = 1))\n",
        "sigma"
      ],
      "metadata": {
        "colab": {
          "base_uri": "https://localhost:8080/"
        },
        "id": "hhC9oWbj0HXm",
        "outputId": "8173a4c0-1273-486f-9131-aafa549e59d9"
      },
      "execution_count": 18,
      "outputs": [
        {
          "output_type": "execute_result",
          "data": {
            "text/plain": [
              "0.1572542173961923"
            ]
          },
          "metadata": {},
          "execution_count": 18
        }
      ]
    },
    {
      "cell_type": "code",
      "source": [
        "t = (mean - M) / (np.sqrt(n) * sigma)\n",
        "t"
      ],
      "metadata": {
        "colab": {
          "base_uri": "https://localhost:8080/"
        },
        "id": "DDwUfBSRyl-t",
        "outputId": "fb7387a8-212c-4edd-d5bc-223f70392c33"
      },
      "execution_count": 16,
      "outputs": [
        {
          "output_type": "execute_result",
          "data": {
            "text/plain": [
              "0.056306136618029586"
            ]
          },
          "metadata": {},
          "execution_count": 16
        }
      ]
    },
    {
      "cell_type": "code",
      "source": [
        "t1 = stats.t.ppf(0.975, n - 1)\n",
        "t1"
      ],
      "metadata": {
        "colab": {
          "base_uri": "https://localhost:8080/"
        },
        "id": "pvAuhvJbzzyz",
        "outputId": "eb698d9e-885e-4f06-9d3f-2a49378f73c8"
      },
      "execution_count": 29,
      "outputs": [
        {
          "output_type": "execute_result",
          "data": {
            "text/plain": [
              "2.2621571627409915"
            ]
          },
          "metadata": {},
          "execution_count": 29
        }
      ]
    },
    {
      "cell_type": "code",
      "source": [
        "interval_a = round(mean- t1* sigma/np.sqrt(n), 3)\n",
        "interval_b = round(mean + t1* sigma/np.sqrt(n), 3)\n",
        "print(interval_a, \" ;  \", interval_b)"
      ],
      "metadata": {
        "colab": {
          "base_uri": "https://localhost:8080/"
        },
        "id": "NpJoQZKqzlcS",
        "outputId": "67753403-3682-42b7-a33a-160af6e771c6"
      },
      "execution_count": 30,
      "outputs": [
        {
          "output_type": "stream",
          "name": "stdout",
          "text": [
            "2.416  ;   2.64\n"
          ]
        }
      ]
    },
    {
      "cell_type": "markdown",
      "source": [
        "Для статистического уровня а = 0,05 гипотеза верна (того что среднее арифметическое = 2,5)\n"
      ],
      "metadata": {
        "id": "clp0w17927uu"
      }
    }
  ]
}