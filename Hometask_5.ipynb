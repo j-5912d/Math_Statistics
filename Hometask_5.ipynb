{
  "cells": [
    {
      "cell_type": "markdown",
      "metadata": {
        "id": "ggFbVaztddhC"
      },
      "source": [
        "# Домашнее задание"
      ]
    },
    {
      "cell_type": "markdown",
      "metadata": {
        "id": "qB4gf4Z0ddhE"
      },
      "source": [
        "## Task 1.\n",
        "Когда используется критерий Стьюдента,\n",
        "а когда Z –критерий?"
      ]
    },
    {
      "cell_type": "markdown",
      "metadata": {
        "id": "TcLw72o2ddhE"
      },
      "source": [
        "Ответ: Разница в использовании критериев заключается в\n",
        "известности сигма (среднеквадратичое стандартное отклонение).\n",
        "Если сигма известна то выбирается Z критерий, если сигма не извесна то используется критерий Стьююдента"
      ]
    },
    {
      "cell_type": "markdown",
      "metadata": {
        "id": "dmZiPwl8ddhE"
      },
      "source": [
        "Задачи 2,3 решать вручную"
      ]
    },
    {
      "cell_type": "markdown",
      "metadata": {
        "id": "db3KbZv2ddhE"
      },
      "source": [
        "## Task 2.\n",
        "Проведите тест гипотезы.\n",
        "Утверждается, что шарики для подшипников, изготовленные\n",
        "автоматическим станком, имеют средний диаметр 17 мм.\n",
        "Используя односторонний критерий с a=0,05, проверить эту гипотезу,\n",
        "если в выборке из n=100 шариков средний диаметр оказался\n",
        "равным 17.5 мм, а дисперсия известна и равна 4 кв. мм."
      ]
    },
    {
      "cell_type": "markdown",
      "metadata": {
        "id": "j30RscfeddhF"
      },
      "source": [
        "Сформируем нулевую гипотезу и скажем, что математическое ожидание\n",
        "равно для генеральной совокупности и выборки значению 17 мм (M(x) = 17)\n",
        "Алтернативная гипотеза это гипотеза для данной задачи, что\n",
        "математическое ожидание выборки больше, чем мат. ожидание генеральной\n",
        "совокупности. (М(x) > M0(x)).\n",
        "Поскольку нам известно среднее значение и дисперсия используем Z критерий."
      ]
    },
    {
      "cell_type": "code",
      "execution_count": 15,
      "metadata": {
        "id": "ozWm6PvTddhF"
      },
      "outputs": [],
      "source": [
        "import numpy as np\n",
        "from scipy import stats\n",
        "import math"
      ]
    },
    {
      "cell_type": "code",
      "execution_count": 19,
      "metadata": {
        "colab": {
          "base_uri": "https://localhost:8080/"
        },
        "id": "aCGjobGSddhG",
        "outputId": "fc9e2d52-e744-417c-a578-a332d82b8eac"
      },
      "outputs": [
        {
          "output_type": "stream",
          "name": "stdout",
          "text": [
            "Cреднее квадратичное откланение:  2.0\n",
            "Cреднее по выборке:  17.5\n",
            "объем выборки:  100\n",
            "Среднее генеральной совокупности:  17\n"
          ]
        }
      ],
      "source": [
        "sigma = math.sqrt(4) # среднее квадратичное откланение\n",
        "print('Cреднее квадратичное откланение: ', sigma)\n",
        "mean_samp = 17.5 # Среднее по выборке\n",
        "print('Cреднее по выборке: ', mean_samp)\n",
        "n = 100 # объем выборки\n",
        "print('объем выборки: ', n)\n",
        "mean = 17 # Среднее генеральной совокупности\n",
        "print('Среднее генеральной совокупности: ', mean)"
      ]
    },
    {
      "cell_type": "code",
      "execution_count": 9,
      "metadata": {
        "colab": {
          "base_uri": "https://localhost:8080/"
        },
        "id": "L5Jsa533ddhG",
        "outputId": "c5baf7ae-78e2-445c-da82-98ac2d58fc42"
      },
      "outputs": [
        {
          "output_type": "stream",
          "name": "stdout",
          "text": [
            "Наблюдаемое значение z-критерия:  2.5000\n"
          ]
        }
      ],
      "source": [
        "z = (mean_samp - mean)/ (sigma / math.sqrt(100))\n",
        "print(f'Наблюдаемое значение z-критерия: {z: .4f}')"
      ]
    },
    {
      "cell_type": "code",
      "source": [
        "a = 0.05 # Критерий альфа\n",
        "print('Критерий альфа:  ', a)"
      ],
      "metadata": {
        "colab": {
          "base_uri": "https://localhost:8080/"
        },
        "id": "vdGSBQINej14",
        "outputId": "e0b94188-3c78-4292-b9c4-a6828389aecb"
      },
      "execution_count": 11,
      "outputs": [
        {
          "output_type": "stream",
          "name": "stdout",
          "text": [
            "Критерий альфа:   0.05\n"
          ]
        }
      ]
    },
    {
      "cell_type": "code",
      "execution_count": 14,
      "metadata": {
        "colab": {
          "base_uri": "https://localhost:8080/"
        },
        "id": "HX0l6QNpddhG",
        "outputId": "cabbd7d9-d844-46de-9c50-b8e55e1d562d"
      },
      "outputs": [
        {
          "output_type": "stream",
          "name": "stdout",
          "text": [
            "Табличное значение z-критерия:  1.6449\n"
          ]
        }
      ],
      "source": [
        "zt=stats.norm.ppf(1 - a)\n",
        "print('Табличное значение z-критерия: ', round(zt,4))"
      ]
    },
    {
      "cell_type": "code",
      "source": [
        "z<=zt"
      ],
      "metadata": {
        "colab": {
          "base_uri": "https://localhost:8080/"
        },
        "id": "xBgjq8HBfy6o",
        "outputId": "2f1de463-e4d9-455e-9bc8-0ebdca58c1e8"
      },
      "execution_count": 17,
      "outputs": [
        {
          "output_type": "execute_result",
          "data": {
            "text/plain": [
              "False"
            ]
          },
          "metadata": {},
          "execution_count": 17
        }
      ]
    },
    {
      "cell_type": "markdown",
      "source": [
        "Получается, что нулевая гипотеза не верна на уроввне альфа = 0.05\n",
        "Ответ: Нулевая гипотеза отвергнута на уровне значимости 0.05"
      ],
      "metadata": {
        "id": "pqJKn2GCgR37"
      }
    },
    {
      "cell_type": "markdown",
      "source": [
        "## Task 3.\n",
        "Проведите тест гипотезы.\n",
        "Продавец утверждает, что средний вес пачки печенья составляет 200 г.\n",
        "Из партии извлечена выборка из 10 пачек. Вес каждой пачки\n",
        "составляет: 202, 203, 199, 197, 195, 201, 200, 204, 194, 190.\n",
        "Известно, что их веса распределены нормально.\n",
        "Верно ли утверждение продавца, если учитывать,\n",
        "что доверительная вероятность равна 99%?\n",
        "(Провести двусторонний тест.)"
      ],
      "metadata": {
        "id": "RJjRmjHngkIV"
      }
    },
    {
      "cell_type": "markdown",
      "source": [
        "Сформируем нулевую гипотезу и скажем, что математическое ожидание\n",
        "равно для генеральной совокупности и выборки значению 200 г (M(x) = 200)\n",
        "Алтернативную гипотезу примем как это гипотезу для данной задачи, что\n",
        "математическое ожидание выборки не равно мат. ожидание генеральной\n",
        "совокупности. (М(x) != M0(x)).\n",
        "\n",
        "Поскольку нам не известна дисперсия используем критерий Стьюдента.\n",
        "\n",
        "Будем использовать двусторонний критерий c уровнем значимости альфа = 1 - 0.99"
      ],
      "metadata": {
        "id": "grp3GhQIg5__"
      }
    },
    {
      "cell_type": "code",
      "source": [
        "products=np.array([202, 203, 199, 197, 195, 201, 200, 204, 194, 190])"
      ],
      "metadata": {
        "id": "TAzLJDIMgxK4"
      },
      "execution_count": 18,
      "outputs": []
    },
    {
      "cell_type": "code",
      "source": [
        "sigma_n = np.std(products,ddof=1)  # среднее квадратичное откланение\n",
        "print('Cреднее квадратичное откланение: ', round(sigma_n, 4))\n",
        "mean_samp = np.mean(products) # Среднее по выборке\n",
        "print('Cреднее по выборке: ', mean_samp)\n",
        "n =  len(products) # объем выборки\n",
        "print('объем выборки: ', n)\n",
        "mean = 200 # Среднее генеральной совокупности\n",
        "print('Среднее генеральной совокупности: ', mean)\n",
        "\n",
        "tn=(mean_samp-mean)/(sigma_n / math.sqrt(n))\n",
        "print('Наблюдаемое значение t-критерия: ', round(tn, 4))"
      ],
      "metadata": {
        "colab": {
          "base_uri": "https://localhost:8080/"
        },
        "id": "-BeC-Hiah8qF",
        "outputId": "14546ffa-2ec7-4679-fc05-3c5e20530933"
      },
      "execution_count": 24,
      "outputs": [
        {
          "output_type": "stream",
          "name": "stdout",
          "text": [
            "Cреднее квадратичное откланение:  4.4535\n",
            "Cреднее по выборке:  198.5\n",
            "объем выборки:  10\n",
            "Среднее генеральной совокупности:  200\n",
            "Наблюдаемое значение t-критерия:  -1.0651\n"
          ]
        }
      ]
    },
    {
      "cell_type": "code",
      "source": [
        "a = 1 - 0.99 # Критерий альфа\n",
        "print('Критерий альфа:  ', round(a, 4))"
      ],
      "metadata": {
        "colab": {
          "base_uri": "https://localhost:8080/"
        },
        "id": "jlCRzdrai6ed",
        "outputId": "db713c40-3643-4d60-fa57-24e454fcf377"
      },
      "execution_count": 22,
      "outputs": [
        {
          "output_type": "stream",
          "name": "stdout",
          "text": [
            "Критерий альфа:   0.01\n"
          ]
        }
      ]
    },
    {
      "cell_type": "markdown",
      "source": [
        "Найдем табличное значение для критерия стьюдента для половинчитого критерия альфа"
      ],
      "metadata": {
        "id": "7EQs-tYDn7Bg"
      }
    },
    {
      "cell_type": "code",
      "source": [
        "a_05 = a / 2\n",
        "t_tabl=stats.t.ppf(1 - a_05,n - 1)\n",
        "print('Табличное значение t-критерия: ', round(t_tabl, 4))"
      ],
      "metadata": {
        "colab": {
          "base_uri": "https://localhost:8080/"
        },
        "id": "kZv5PPa1n4Xk",
        "outputId": "278610f5-f7e4-4473-9bee-740221e09037"
      },
      "execution_count": 26,
      "outputs": [
        {
          "output_type": "stream",
          "name": "stdout",
          "text": [
            "Табличное значение t-критерия:  3.2498\n"
          ]
        }
      ]
    },
    {
      "cell_type": "markdown",
      "source": [
        "При сравнивании двух критериев необходимо использовать абсолютное значение, поскольку у нас двусторонний критерий"
      ],
      "metadata": {
        "id": "y3VIm4wnogTb"
      }
    },
    {
      "cell_type": "code",
      "source": [
        "np.abs(tn)<=t_tabl"
      ],
      "metadata": {
        "colab": {
          "base_uri": "https://localhost:8080/"
        },
        "id": "GAc9Uk98orHT",
        "outputId": "0c28c530-1421-426f-eee6-10c4c34f52bf"
      },
      "execution_count": 27,
      "outputs": [
        {
          "output_type": "execute_result",
          "data": {
            "text/plain": [
              "True"
            ]
          },
          "metadata": {},
          "execution_count": 27
        }
      ]
    },
    {
      "cell_type": "markdown",
      "source": [
        "Поскольку условие верно, то принимаем нулевую гипотезу как истинную.\n",
        "Ответ: нулевая гипотеза верная."
      ],
      "metadata": {
        "id": "Z6tOOELeo1Xp"
      }
    },
    {
      "cell_type": "markdown",
      "source": [
        "Задачу 4 решать с помощью функции."
      ],
      "metadata": {
        "id": "3SlrFPZcrEL3"
      }
    },
    {
      "cell_type": "markdown",
      "source": [
        "## Task 4\n",
        "Есть ли статистически значимые различия в росте дочерей?\n",
        "Рост матерей           172, 177, 158, 170, 178,175, 164, 160, 169, 165\n",
        "Рост взрослых дочерей: 173, 175, 162, 174, 175, 168, 155, 170, 160"
      ],
      "metadata": {
        "id": "zEazGrC8pDZU"
      }
    },
    {
      "cell_type": "code",
      "execution_count": 32,
      "metadata": {
        "colab": {
          "base_uri": "https://localhost:8080/"
        },
        "id": "ZaDawDBCddhG",
        "outputId": "7d281c08-9d88-46d9-a532-513ec4680589"
      },
      "outputs": [
        {
          "output_type": "stream",
          "name": "stdout",
          "text": [
            "t-статистика критерия =  -0.04238827457589259\n",
            "p-уровень =  0.9671146812612452\n",
            "Введите уровень значимости 0.95\n",
            "статистически значимых различий в росте матерей и дочерей нет\n",
            "\n",
            " Проверка с помощью встроенной функции\n",
            "t-статистика критерия =  -0.042388274575892594\n",
            "p-уровень =  0.9671146812612452\n"
          ]
        }
      ],
      "source": [
        "# функция вычисляет статистику критеря для проверки гипотезы равенства\n",
        "# средних двух парных выборок\n",
        "# x, y - выборки одинакового объема\n",
        "def equalmean(x,y):\n",
        "    # вычисляем разность выборок\n",
        "    dif=mothers-daughters\n",
        "    n=len(dif)\n",
        "    # вычисляем среднее разности\n",
        "    mean_dif=dif.mean()\n",
        "    # вычисляем несмещенную дисперсию разности\n",
        "    var_dif=dif.var()*n/(n-1)\n",
        "    # вычисляем t-статистику\n",
        "    t=mean_dif/math.sqrt(var_dif)*math.sqrt(n)\n",
        "    # вычисляем р-уровень\n",
        "    p = 1 - math.fabs(stats.t.cdf(t,n-1) - stats.t.cdf(-t,n-1))\n",
        "    return t,p\n",
        "\n",
        "\n",
        "mothers=np.array([172,177,158,170,178,175,164,160,169,165])\n",
        "daughters=np.array([173,175,162,174,175,168,155,170,160, 177])\n",
        "t,p=equalmean(mothers,daughters)\n",
        "print(\"t-статистика критерия = \",t)\n",
        "print(\"p-уровень = \",p)\n",
        "alpha=float(input(\"Введите уровень значимости \"))\n",
        "if p>alpha:\n",
        "    print(\"статистически значимых различий в росте матерей и дочерей нет\")\n",
        "else:\n",
        "    print(\"есть статистически значимые различия в росте матерей и дочерей\")\n",
        "print(\"\\n Проверка с помощью встроенной функции\")\n",
        "res=stats.ttest_rel (a=mothers, b=daughters)\n",
        "print(\"t-статистика критерия = \",res.statistic)\n",
        "print(\"p-уровень = \",res.pvalue)"
      ]
    }
  ],
  "metadata": {
    "kernelspec": {
      "display_name": ".venv",
      "language": "python",
      "name": "python3"
    },
    "language_info": {
      "codemirror_mode": {
        "name": "ipython",
        "version": 3
      },
      "file_extension": ".py",
      "mimetype": "text/x-python",
      "name": "python",
      "nbconvert_exporter": "python",
      "pygments_lexer": "ipython3",
      "version": "3.11.4"
    },
    "colab": {
      "provenance": [],
      "toc_visible": true
    }
  },
  "nbformat": 4,
  "nbformat_minor": 0
}