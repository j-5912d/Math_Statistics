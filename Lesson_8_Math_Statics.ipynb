{
  "nbformat": 4,
  "nbformat_minor": 0,
  "metadata": {
    "colab": {
      "provenance": [],
      "authorship_tag": "ABX9TyNT4mliJ78cqQny5xUGjmfu",
      "include_colab_link": true
    },
    "kernelspec": {
      "name": "python3",
      "display_name": "Python 3"
    },
    "language_info": {
      "name": "python"
    }
  },
  "cells": [
    {
      "cell_type": "markdown",
      "metadata": {
        "id": "view-in-github",
        "colab_type": "text"
      },
      "source": [
        "<a href=\"https://colab.research.google.com/github/j-5912d/Math_Statistics/blob/main/Lesson_8_Math_Statics.ipynb\" target=\"_parent\"><img src=\"https://colab.research.google.com/assets/colab-badge.svg\" alt=\"Open In Colab\"/></a>"
      ]
    },
    {
      "cell_type": "code",
      "source": [
        "import numpy as np\n",
        "import scipy.stats as stats\n",
        "import statistics\n",
        "import warnings\n",
        "import matplotlib.pyplot as plt"
      ],
      "metadata": {
        "id": "l5_dERgUR7m8"
      },
      "execution_count": 2,
      "outputs": []
    },
    {
      "cell_type": "markdown",
      "source": [
        "# Задание 1"
      ],
      "metadata": {
        "id": "kdSoVzyeKthm"
      }
    },
    {
      "cell_type": "markdown",
      "source": [
        "1. Даны значения величины заработной платы заемщиков банка (zp) и значения их поведенческого кредитного скоринга (ks): zp = [35, 45, 190, 200, 40, 70, 54, 150, 120, 110], ks = [401, 574, 874, 919, 459, 739, 653, 902, 746, 832].\n",
        "\n",
        "Найдите ковариацию этих двух величин с помощью элементарных действий, а затем с помощью функции cov из numpy Полученные значения должны быть равны.\n",
        "\n",
        "Найдите коэффициент корреляции Пирсона с помощью ковариации и среднеквадратичных отклонений двух признаков, а затем с использованием функций из библиотек numpy и pandas.\n"
      ],
      "metadata": {
        "id": "UuxVg8UnKwWN"
      }
    },
    {
      "cell_type": "code",
      "execution_count": 3,
      "metadata": {
        "id": "SEjl3s29Gj_5"
      },
      "outputs": [],
      "source": [
        "zp = np.array([35, 45, 190, 200, 40, 70, 54, 150, 120, 110])\n",
        "ks = np.array([401, 574, 874, 919, 459, 739, 653, 902, 746, 832])"
      ]
    },
    {
      "cell_type": "code",
      "source": [
        "plt.scatter(zp, ks)"
      ],
      "metadata": {
        "colab": {
          "base_uri": "https://localhost:8080/",
          "height": 447
        },
        "id": "nD6iq_E4TlnX",
        "outputId": "0101ffec-a012-4de9-d936-d0a49e15ded8"
      },
      "execution_count": 4,
      "outputs": [
        {
          "output_type": "execute_result",
          "data": {
            "text/plain": [
              "<matplotlib.collections.PathCollection at 0x7e08b85df850>"
            ]
          },
          "metadata": {},
          "execution_count": 4
        },
        {
          "output_type": "display_data",
          "data": {
            "text/plain": [
              "<Figure size 640x480 with 1 Axes>"
            ],
            "image/png": "[encoded data removed]"
          },
          "metadata": {}
        }
      ]
    },
    {
      "cell_type": "code",
      "source": [
        "cov = np.mean(zp * ks) - np.mean(zp) * np.mean(ks)\n",
        "cov"
      ],
      "metadata": {
        "colab": {
          "base_uri": "https://localhost:8080/"
        },
        "id": "CYP9wdz8Z_MS",
        "outputId": "6185a1a6-a38e-47e8-84d6-5ef3e06894da"
      },
      "execution_count": 6,
      "outputs": [
        {
          "output_type": "execute_result",
          "data": {
            "text/plain": [
              "9157.839999999997"
            ]
          },
          "metadata": {},
          "execution_count": 6
        }
      ]
    },
    {
      "cell_type": "code",
      "source": [
        "np.cov(zp, ks)"
      ],
      "metadata": {
        "id": "puSY9v-UUCpn",
        "colab": {
          "base_uri": "https://localhost:8080/"
        },
        "outputId": "f6da15fb-1696-45d0-f87c-86e8d5eccb05"
      },
      "execution_count": 5,
      "outputs": [
        {
          "output_type": "execute_result",
          "data": {
            "text/plain": [
              "array([[ 3882.93333333, 10175.37777778],\n",
              "       [10175.37777778, 33854.32222222]])"
            ]
          },
          "metadata": {},
          "execution_count": 5
        }
      ]
    },
    {
      "cell_type": "code",
      "source": [
        "np.cov(zp, ks, ddof = 0)"
      ],
      "metadata": {
        "colab": {
          "base_uri": "https://localhost:8080/"
        },
        "id": "46NjsXxNaiz1",
        "outputId": "f047abcc-a36f-4270-e18e-3327d0363d02"
      },
      "execution_count": 8,
      "outputs": [
        {
          "output_type": "execute_result",
          "data": {
            "text/plain": [
              "array([[ 3494.64,  9157.84],\n",
              "       [ 9157.84, 30468.89]])"
            ]
          },
          "metadata": {},
          "execution_count": 8
        }
      ]
    },
    {
      "cell_type": "markdown",
      "source": [
        "Значения различаются, поскольку в случае расчета ковариации элементарными действиями, она расчитывается как смещенная, расчитав ковариацию с помощью функции cov она автоматически не смещенная, если её сместить, то она сходится с первой расчётной ковариацией."
      ],
      "metadata": {
        "id": "Fg2OTnDOaZMN"
      }
    },
    {
      "cell_type": "code",
      "source": [
        "sigma_z = np.std(zp, ddof = 0)\n",
        "sigma_z"
      ],
      "metadata": {
        "colab": {
          "base_uri": "https://localhost:8080/"
        },
        "id": "HhXtrf_3bm4j",
        "outputId": "4dd5628c-c591-4dbc-adad-92fe6da4996d"
      },
      "execution_count": 16,
      "outputs": [
        {
          "output_type": "execute_result",
          "data": {
            "text/plain": [
              "59.115480206118605"
            ]
          },
          "metadata": {},
          "execution_count": 16
        }
      ]
    },
    {
      "cell_type": "code",
      "source": [
        "sigma_k = np.std(ks, ddof = 0)\n",
        "sigma_k"
      ],
      "metadata": {
        "colab": {
          "base_uri": "https://localhost:8080/"
        },
        "id": "6NMffcktb39U",
        "outputId": "ff56968d-693b-4273-b283-dbccf30e8287"
      },
      "execution_count": 17,
      "outputs": [
        {
          "output_type": "execute_result",
          "data": {
            "text/plain": [
              "174.55340157098058"
            ]
          },
          "metadata": {},
          "execution_count": 17
        }
      ]
    },
    {
      "cell_type": "code",
      "source": [
        "cov/(sigma_z * sigma_k)"
      ],
      "metadata": {
        "colab": {
          "base_uri": "https://localhost:8080/"
        },
        "id": "DxLbMRqAb30k",
        "outputId": "fb1ad555-ed51-45b9-f053-8ea0b90ce547"
      },
      "execution_count": 18,
      "outputs": [
        {
          "output_type": "execute_result",
          "data": {
            "text/plain": [
              "0.8874900920739158"
            ]
          },
          "metadata": {},
          "execution_count": 18
        }
      ]
    },
    {
      "cell_type": "code",
      "source": [
        "np.corrcoef(zp, ks, ddof = 1)"
      ],
      "metadata": {
        "colab": {
          "base_uri": "https://localhost:8080/"
        },
        "id": "HBH7enVsbY7k",
        "outputId": "6766d34a-a157-43c0-bc46-977862fe0ca6"
      },
      "execution_count": 12,
      "outputs": [
        {
          "output_type": "stream",
          "name": "stderr",
          "text": [
            "<ipython-input-12-31af8145ff04>:1: DeprecationWarning: bias and ddof have no effect and are deprecated\n",
            "  np.corrcoef(zp, ks, ddof = 1)\n"
          ]
        },
        {
          "output_type": "execute_result",
          "data": {
            "text/plain": [
              "array([[1.        , 0.88749009],\n",
              "       [0.88749009, 1.        ]])"
            ]
          },
          "metadata": {},
          "execution_count": 12
        }
      ]
    },
    {
      "cell_type": "code",
      "source": [
        "np.corrcoef(zp, ks, ddof = 0)"
      ],
      "metadata": {
        "colab": {
          "base_uri": "https://localhost:8080/"
        },
        "id": "BtSBKk8ybUvh",
        "outputId": "cc0b4a61-e70f-423c-825c-592bbc1eb129"
      },
      "execution_count": 11,
      "outputs": [
        {
          "output_type": "stream",
          "name": "stderr",
          "text": [
            "<ipython-input-11-59286c9dc201>:1: DeprecationWarning: bias and ddof have no effect and are deprecated\n",
            "  np.corrcoef(zp, ks, ddof = 0)\n"
          ]
        },
        {
          "output_type": "execute_result",
          "data": {
            "text/plain": [
              "array([[1.        , 0.88749009],\n",
              "       [0.88749009, 1.        ]])"
            ]
          },
          "metadata": {},
          "execution_count": 11
        }
      ]
    },
    {
      "cell_type": "markdown",
      "source": [
        "Как мы видим, не важно, как рассчитывается коэффициент кореляции пирсона через смещенные или не смещенные среднеквадратичные откланения и ковариации, главное, чтобы все величины были или смещенные или не смещенные"
      ],
      "metadata": {
        "id": "YWIMtqsAbqY8"
      }
    },
    {
      "cell_type": "markdown",
      "source": [
        "# Задание 2"
      ],
      "metadata": {
        "id": "2wMmmAFtMp3H"
      }
    },
    {
      "cell_type": "markdown",
      "source": [
        "2. Измерены значения IQ выборки студентов, обучающихся в местных технических вузах: 131, 125, 115, 122, 131, 115, 107, 99, 125, 111. Известно, что в генеральной совокупности IQ распределен нормально. Найдите доверительный интервал для математического ожидания с надежностью 0.95.\n"
      ],
      "metadata": {
        "id": "dHyCMnZ7MqQn"
      }
    },
    {
      "cell_type": "code",
      "source": [
        "iq = np.array([131, 125, 115, 122, 131, 115, 107, 99, 125, 111])\n",
        "a = 0.05"
      ],
      "metadata": {
        "id": "LcqgS1m5RS7P"
      },
      "execution_count": 24,
      "outputs": []
    },
    {
      "cell_type": "code",
      "source": [
        "mean = iq.mean()\n",
        "mean"
      ],
      "metadata": {
        "colab": {
          "base_uri": "https://localhost:8080/"
        },
        "id": "HAPfeve2dy_P",
        "outputId": "3ffffe94-dde7-4e7d-91e6-628889637362"
      },
      "execution_count": 25,
      "outputs": [
        {
          "output_type": "execute_result",
          "data": {
            "text/plain": [
              "118.1"
            ]
          },
          "metadata": {},
          "execution_count": 25
        }
      ]
    },
    {
      "cell_type": "code",
      "source": [
        "sigma = np.std(iq, ddof = 1)\n",
        "sigma"
      ],
      "metadata": {
        "colab": {
          "base_uri": "https://localhost:8080/"
        },
        "id": "H-_vX1b9eK7v",
        "outputId": "8e0b477b-70c0-41a8-a6a1-1e553166f1cf"
      },
      "execution_count": 70,
      "outputs": [
        {
          "output_type": "execute_result",
          "data": {
            "text/plain": [
              "10.54566788359614"
            ]
          },
          "metadata": {},
          "execution_count": 70
        }
      ]
    },
    {
      "cell_type": "code",
      "source": [
        "n = len(iq)\n",
        "n"
      ],
      "metadata": {
        "colab": {
          "base_uri": "https://localhost:8080/"
        },
        "id": "xaWMVLUYeYVn",
        "outputId": "7cd7ff10-7ca9-4503-d355-8206b28a2b94"
      },
      "execution_count": 31,
      "outputs": [
        {
          "output_type": "execute_result",
          "data": {
            "text/plain": [
              "10"
            ]
          },
          "metadata": {},
          "execution_count": 31
        }
      ]
    },
    {
      "cell_type": "code",
      "source": [
        "a = 0.05"
      ],
      "metadata": {
        "id": "WlmtlSU-gQQu"
      },
      "execution_count": 53,
      "outputs": []
    },
    {
      "cell_type": "code",
      "source": [
        "z = stats.norm.ppf(1-a/2)\n",
        "z"
      ],
      "metadata": {
        "colab": {
          "base_uri": "https://localhost:8080/"
        },
        "id": "tbAZGtnlfCep",
        "outputId": "913e5a01-f6be-43b3-ae63-6abcb924e1ca"
      },
      "execution_count": 66,
      "outputs": [
        {
          "output_type": "execute_result",
          "data": {
            "text/plain": [
              "1.959963984540054"
            ]
          },
          "metadata": {},
          "execution_count": 66
        }
      ]
    },
    {
      "cell_type": "code",
      "source": [
        "interval_a = round(mean - z* sigma/np.sqrt(n), 3)\n",
        "interval_b = round(mean + z* sigma/np.sqrt(n), 3)\n",
        "print(interval_a, \" ;  \", interval_b)"
      ],
      "metadata": {
        "colab": {
          "base_uri": "https://localhost:8080/"
        },
        "id": "lGDZo8QgfCSv",
        "outputId": "35bc488f-268c-49cd-f6a5-127aee031862"
      },
      "execution_count": 71,
      "outputs": [
        {
          "output_type": "stream",
          "name": "stdout",
          "text": [
            "111.564  ;   124.636\n"
          ]
        }
      ]
    },
    {
      "cell_type": "code",
      "source": [
        "from statsmodels.stats.weightstats import _tconfint_generic"
      ],
      "metadata": {
        "id": "Qy0XSpN0eq6f"
      },
      "execution_count": 32,
      "outputs": []
    },
    {
      "cell_type": "code",
      "source": [
        "_tconfint_generic(mean, sigma/np.sqrt(len(iq)),n -1, a, 'two-sided')"
      ],
      "metadata": {
        "colab": {
          "base_uri": "https://localhost:8080/"
        },
        "id": "Gg2-k7wyeguk",
        "outputId": "5a2236f7-7f4b-4d05-f3c6-1db6494a05ca"
      },
      "execution_count": 74,
      "outputs": [
        {
          "output_type": "execute_result",
          "data": {
            "text/plain": [
              "(110.55608365158724, 125.64391634841274)"
            ]
          },
          "metadata": {},
          "execution_count": 74
        }
      ]
    },
    {
      "cell_type": "markdown",
      "source": [
        "Не могу понять, где закралось отличие, между данными двумя методами расчета., разница на еденицу, а это довольно таки существенно"
      ],
      "metadata": {
        "id": "TF2BQOeihzIf"
      }
    },
    {
      "cell_type": "markdown",
      "source": [
        "# Задание 3"
      ],
      "metadata": {
        "id": "ZjUP7ITaMv9G"
      }
    },
    {
      "cell_type": "markdown",
      "source": [
        "3. Известно, что рост футболистов в сборной распределен нормально с дисперсией генеральной совокупности, равной 25 кв.см. Объем выборки равен 27, среднее выборочное составляет 174.2. Найдите доверительный интервал для математического ожидания с надежностью 0.95."
      ],
      "metadata": {
        "id": "kCbaVSJ7MwP7"
      }
    },
    {
      "cell_type": "code",
      "source": [
        "disp = 25\n",
        "sigma = np.sqrt(disp)\n",
        "n = 27\n",
        "mean = 174.2\n",
        "a = 0.05"
      ],
      "metadata": {
        "id": "LXpviNusRTlz"
      },
      "execution_count": 76,
      "outputs": []
    },
    {
      "cell_type": "code",
      "source": [
        "_tconfint_generic(mean, sigma/np.sqrt(n),n - 1, a, 'two-sided')"
      ],
      "metadata": {
        "colab": {
          "base_uri": "https://localhost:8080/"
        },
        "id": "NcBfsnxHdvsm",
        "outputId": "83f0c20c-feb7-4ffe-bb8c-1f6bdb865d1c"
      },
      "execution_count": 77,
      "outputs": [
        {
          "output_type": "execute_result",
          "data": {
            "text/plain": [
              "(172.2220658754539, 176.17793412454608)"
            ]
          },
          "metadata": {},
          "execution_count": 77
        }
      ]
    },
    {
      "cell_type": "code",
      "source": [
        "z = stats.norm.ppf(1-a/2)\n",
        "z"
      ],
      "metadata": {
        "colab": {
          "base_uri": "https://localhost:8080/"
        },
        "id": "VhQHq3BdkAJj",
        "outputId": "9ffddd24-d174-439c-e4b7-972d100e6e24"
      },
      "execution_count": 78,
      "outputs": [
        {
          "output_type": "execute_result",
          "data": {
            "text/plain": [
              "1.959963984540054"
            ]
          },
          "metadata": {},
          "execution_count": 78
        }
      ]
    },
    {
      "cell_type": "code",
      "source": [
        "interval_a = round(mean - z* sigma/np.sqrt(n), 3)\n",
        "interval_b = round(mean + z* sigma/np.sqrt(n), 3)\n",
        "print(interval_a, \" ;  \", interval_b)"
      ],
      "metadata": {
        "colab": {
          "base_uri": "https://localhost:8080/"
        },
        "id": "cw1lTpk8j8_K",
        "outputId": "a0b83da3-b0d6-482d-c1d3-de03a03e2035"
      },
      "execution_count": 79,
      "outputs": [
        {
          "output_type": "stream",
          "name": "stdout",
          "text": [
            "172.314  ;   176.086\n"
          ]
        }
      ]
    }
  ]
}